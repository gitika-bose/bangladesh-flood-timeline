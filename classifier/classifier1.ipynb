{
 "cells": [
  {
   "cell_type": "code",
   "execution_count": 141,
   "metadata": {},
   "outputs": [],
   "source": [
    "from gensim.models import Word2Vec,KeyedVectors\n",
    "from gensim.scripts.glove2word2vec import glove2word2vec\n",
    "from nltk.tokenize import word_tokenize\n",
    "import string\n",
    "import os\n",
    "import json\n",
    "\n",
    "from functions import load_data, query_dataframe, train_test_split"
   ]
  },
  {
   "cell_type": "markdown",
   "metadata": {},
   "source": [
    "### Loading data"
   ]
  },
  {
   "cell_type": "code",
   "execution_count": 2,
   "metadata": {
    "scrolled": false
   },
   "outputs": [
    {
     "name": "stdout",
     "output_type": "stream",
     "text": [
      "457\n"
     ]
    },
    {
     "data": {
      "text/html": [
       "<div>\n",
       "<style scoped>\n",
       "    .dataframe tbody tr th:only-of-type {\n",
       "        vertical-align: middle;\n",
       "    }\n",
       "\n",
       "    .dataframe tbody tr th {\n",
       "        vertical-align: top;\n",
       "    }\n",
       "\n",
       "    .dataframe thead th {\n",
       "        text-align: right;\n",
       "    }\n",
       "</style>\n",
       "<table border=\"1\" class=\"dataframe\">\n",
       "  <thead>\n",
       "    <tr style=\"text-align: right;\">\n",
       "      <th></th>\n",
       "      <th>doc_id</th>\n",
       "      <th>filename</th>\n",
       "      <th>is_flood</th>\n",
       "      <th>is_bangladesh</th>\n",
       "      <th>flood_related</th>\n",
       "      <th>flood_climatechange</th>\n",
       "      <th>newspaper</th>\n",
       "      <th>flood_type</th>\n",
       "      <th>text</th>\n",
       "    </tr>\n",
       "  </thead>\n",
       "  <tbody>\n",
       "    <tr>\n",
       "      <th>0</th>\n",
       "      <td>None</td>\n",
       "      <td>a2OdfvBIbDPO1aDIwd9K0d6uSECa-1988_c592d7972eb0...</td>\n",
       "      <td>True</td>\n",
       "      <td>True</td>\n",
       "      <td>True</td>\n",
       "      <td>False</td>\n",
       "      <td>ny_times</td>\n",
       "      <td>monsoon</td>\n",
       "      <td>Misery Rises With Rivers In Bangladesh\\n1988-0...</td>\n",
       "    </tr>\n",
       "    <tr>\n",
       "      <th>1</th>\n",
       "      <td>26718c21-62c0-422c-ac53-36766942fb7b</td>\n",
       "      <td>aoWObyIMi8CwBOMVuRclPk73DHvK-dhakaTribune_data...</td>\n",
       "      <td>False</td>\n",
       "      <td>True</td>\n",
       "      <td>False</td>\n",
       "      <td>False</td>\n",
       "      <td>dhaka_tribune</td>\n",
       "      <td>None</td>\n",
       "      <td>Date Published:2020-04-04 00:00:00      \\nRMCH...</td>\n",
       "    </tr>\n",
       "    <tr>\n",
       "      <th>2</th>\n",
       "      <td>d8f462ed-aec4-455e-8ba8-71c6bd4f292d</td>\n",
       "      <td>atY5uczPE6zPTNIFVBiEvbfv4sju-dhakaTribune_data...</td>\n",
       "      <td>False</td>\n",
       "      <td>True</td>\n",
       "      <td>False</td>\n",
       "      <td>False</td>\n",
       "      <td>dhaka_tribune</td>\n",
       "      <td>None</td>\n",
       "      <td>Date Published:2019-06-03 00:00:00      \\nThe ...</td>\n",
       "    </tr>\n",
       "    <tr>\n",
       "      <th>3</th>\n",
       "      <td>deacde3e-4e9e-404c-aa28-627c9c8e9ed4</td>\n",
       "      <td>ak5TnURTgl6eKymISBt_60JAQebG-dhakaTribune_data...</td>\n",
       "      <td>False</td>\n",
       "      <td>True</td>\n",
       "      <td>False</td>\n",
       "      <td>False</td>\n",
       "      <td>dhaka_tribune</td>\n",
       "      <td>None</td>\n",
       "      <td>Date Published:2020-02-01 00:00:00      \\nHe i...</td>\n",
       "    </tr>\n",
       "    <tr>\n",
       "      <th>4</th>\n",
       "      <td>9188bf4f-a3a9-464f-aec1-b3adb6313c0e</td>\n",
       "      <td>aInceN38qOVMeSAdJ4xXJPDJruf4-dhakaTribune_data...</td>\n",
       "      <td>False</td>\n",
       "      <td>True</td>\n",
       "      <td>False</td>\n",
       "      <td>False</td>\n",
       "      <td>dhaka_tribune</td>\n",
       "      <td>None</td>\n",
       "      <td>Date Published:2020-04-10 00:00:00      \\nNusr...</td>\n",
       "    </tr>\n",
       "  </tbody>\n",
       "</table>\n",
       "</div>"
      ],
      "text/plain": [
       "                                 doc_id  \\\n",
       "0                                  None   \n",
       "1  26718c21-62c0-422c-ac53-36766942fb7b   \n",
       "2  d8f462ed-aec4-455e-8ba8-71c6bd4f292d   \n",
       "3  deacde3e-4e9e-404c-aa28-627c9c8e9ed4   \n",
       "4  9188bf4f-a3a9-464f-aec1-b3adb6313c0e   \n",
       "\n",
       "                                            filename is_flood is_bangladesh  \\\n",
       "0  a2OdfvBIbDPO1aDIwd9K0d6uSECa-1988_c592d7972eb0...     True          True   \n",
       "1  aoWObyIMi8CwBOMVuRclPk73DHvK-dhakaTribune_data...    False          True   \n",
       "2  atY5uczPE6zPTNIFVBiEvbfv4sju-dhakaTribune_data...    False          True   \n",
       "3  ak5TnURTgl6eKymISBt_60JAQebG-dhakaTribune_data...    False          True   \n",
       "4  aInceN38qOVMeSAdJ4xXJPDJruf4-dhakaTribune_data...    False          True   \n",
       "\n",
       "  flood_related flood_climatechange      newspaper flood_type  \\\n",
       "0          True               False       ny_times    monsoon   \n",
       "1         False               False  dhaka_tribune       None   \n",
       "2         False               False  dhaka_tribune       None   \n",
       "3         False               False  dhaka_tribune       None   \n",
       "4         False               False  dhaka_tribune       None   \n",
       "\n",
       "                                                text  \n",
       "0  Misery Rises With Rivers In Bangladesh\\n1988-0...  \n",
       "1  Date Published:2020-04-04 00:00:00      \\nRMCH...  \n",
       "2  Date Published:2019-06-03 00:00:00      \\nThe ...  \n",
       "3  Date Published:2020-02-01 00:00:00      \\nHe i...  \n",
       "4  Date Published:2020-04-10 00:00:00      \\nNusr...  "
      ]
     },
     "execution_count": 2,
     "metadata": {},
     "output_type": "execute_result"
    }
   ],
   "source": [
    "df = load_data()\n",
    "print(len(df))\n",
    "df.head()"
   ]
  },
  {
   "cell_type": "markdown",
   "metadata": {},
   "source": [
    "### Checking IS Flood and Is Not Flood distribution"
   ]
  },
  {
   "cell_type": "code",
   "execution_count": 3,
   "metadata": {
    "scrolled": true
   },
   "outputs": [
    {
     "name": "stdout",
     "output_type": "stream",
     "text": [
      "Is flood: 38 \n",
      "Is Not Flood: 417\n"
     ]
    }
   ],
   "source": [
    "df_is_flood = query_dataframe(df, {'is_flood':True})\n",
    "df_is_not_flood = query_dataframe(df, {'is_flood':False})\n",
    "print('Is flood:',len(df_is_flood),'\\nIs Not Flood:',len(df_is_not_flood))"
   ]
  },
  {
   "cell_type": "markdown",
   "metadata": {},
   "source": [
    "#### Is Flood to CSV"
   ]
  },
  {
   "cell_type": "code",
   "execution_count": 4,
   "metadata": {},
   "outputs": [],
   "source": [
    "df_is_flood['text'].to_csv('isFloodTrue.csv')"
   ]
  },
  {
   "cell_type": "markdown",
   "metadata": {},
   "source": [
    "### Checking number of times \"flood\" occurs in isFlood texts, vs non IsFlood texts"
   ]
  },
  {
   "cell_type": "markdown",
   "metadata": {},
   "source": [
    "Add flood count to df"
   ]
  },
  {
   "cell_type": "code",
   "execution_count": 5,
   "metadata": {},
   "outputs": [],
   "source": [
    "df_count = df.copy()\n",
    "flood_count = [t.lower().count('flood') for t in df_count['text']]\n",
    "df_count['flood_count'] = flood_count"
   ]
  },
  {
   "cell_type": "code",
   "execution_count": 28,
   "metadata": {
    "scrolled": true
   },
   "outputs": [
    {
     "name": "stdout",
     "output_type": "stream",
     "text": [
      "\"flood\" occurs in is Flood: [18, 13, 12, 11, 10, 10, 9, 9, 9, 8, 8, 7, 7, 7, 6]\n",
      "\"flood\" occurs in is Not Flood: [8, 7, 7, 7, 7, 7, 7, 6, 6, 6, 5, 5, 5, 5, 4]\n"
     ]
    }
   ],
   "source": [
    "is_flood_occurance = list(query_dataframe(df_count, {'is_flood':True})['flood_count'])\n",
    "is_not_flood_occurance = list(query_dataframe(df_count, {'is_flood':False})['flood_count'])\n",
    "print('\"flood\" occurs in is Flood:',sorted(is_flood_occurance, reverse=True)[:15])\n",
    "print('\"flood\" occurs in is Not Flood:',sorted(is_not_flood_occurance, reverse=True)[:15])"
   ]
  },
  {
   "cell_type": "code",
   "execution_count": 142,
   "metadata": {},
   "outputs": [],
   "source": [
    "df_not_flood_count_check = query_dataframe(df_count, {'is_flood':False, 'flood_count':8})\n",
    "df_not_flood_count_check['text'].to_csv('notFlood_flood_count_8.csv')"
   ]
  },
  {
   "cell_type": "code",
   "execution_count": 31,
   "metadata": {},
   "outputs": [],
   "source": [
    "df_flood_count_check = query_dataframe(df_count, {'is_flood':True, 'flood_count':0})\n",
    "df_flood_count_check.to_csv('isFlood_flood_count_0.csv')"
   ]
  },
  {
   "cell_type": "markdown",
   "metadata": {},
   "source": [
    "### Checking word2vec, relation between flood and words in article"
   ]
  },
  {
   "cell_type": "markdown",
   "metadata": {},
   "source": [
    "Converting glove to word2vec (single time run)"
   ]
  },
  {
   "cell_type": "code",
   "execution_count": 9,
   "metadata": {},
   "outputs": [],
   "source": [
    "# glove_model_path = 'word2vec_model/glove_word2vec_model.txt'\n",
    "# word2vec_model_path = 'word2vec_model/word2vec_model.model'\n",
    "# glove2word2vec(glove_model_path, word2vec_model_path)"
   ]
  },
  {
   "cell_type": "markdown",
   "metadata": {},
   "source": [
    "Load model"
   ]
  },
  {
   "cell_type": "code",
   "execution_count": 10,
   "metadata": {},
   "outputs": [],
   "source": [
    "word2vec_model_path = 'word2vec_model/word2vec_model.model'\n",
    "model = KeyedVectors.load_word2vec_format(word2vec_model_path, binary=False)"
   ]
  },
  {
   "cell_type": "code",
   "execution_count": 26,
   "metadata": {},
   "outputs": [
    {
     "data": {
      "text/plain": [
       "0.7978086"
      ]
     },
     "execution_count": 26,
     "metadata": {},
     "output_type": "execute_result"
    }
   ],
   "source": [
    "model.similarity('flooded', 'flooding')"
   ]
  },
  {
   "cell_type": "markdown",
   "metadata": {},
   "source": [
    "Calculate Similarities between different words (except 'flood' cause sim=1)"
   ]
  },
  {
   "cell_type": "code",
   "execution_count": 83,
   "metadata": {},
   "outputs": [],
   "source": [
    "def calculate_similarity(df, debug=False, single=False, word_has_flood=True):\n",
    "    sim = []\n",
    "    for row in df.iterrows():\n",
    "        row_sim = []\n",
    "        for t in word_tokenize(row[1]['text']):\n",
    "            try:\n",
    "                txt = t.translate(str.maketrans('', '', string.punctuation)).strip().lower()\n",
    "                if txt and txt!='flood':\n",
    "                    if not word_has_flood and 'flood' not in txt: row_sim.append((model.similarity('flood', txt),txt))\n",
    "                    elif word_has_flood: row_sim.append((model.similarity('flood', txt),txt))\n",
    "                if debug: print(txt)\n",
    "            except Exception as e:\n",
    "                if debug: print(e)\n",
    "                continue\n",
    "        if single: break\n",
    "        sim.append(sorted(row_sim, reverse=True, key=lambda x:x[0]))\n",
    "    return sim"
   ]
  },
  {
   "cell_type": "code",
   "execution_count": 72,
   "metadata": {},
   "outputs": [],
   "source": [
    "is_flood_similarities = calculate_similarity(df_is_flood)\n",
    "is_not_flood_similarities = calculate_similarity(df_is_not_flood)"
   ]
  },
  {
   "cell_type": "markdown",
   "metadata": {},
   "source": [
    "Check the top similarities for both isFlood and not isFlood"
   ]
  },
  {
   "cell_type": "code",
   "execution_count": 74,
   "metadata": {
    "scrolled": true
   },
   "outputs": [
    {
     "data": {
      "text/plain": [
       "([[(0.8515943, 'flooding'),\n",
       "   (0.8515943, 'flooding'),\n",
       "   (0.84088975, 'floods'),\n",
       "   (0.84088975, 'floods'),\n",
       "   (0.75193965, 'flooded')],\n",
       "  [(0.8515943, 'flooding'),\n",
       "   (0.8515943, 'flooding'),\n",
       "   (0.51762384, 'rivers'),\n",
       "   (0.50659436, 'water'),\n",
       "   (0.50659436, 'water')]],\n",
       " '---------------------------',\n",
       " [[(0.3505731, 'deadly'),\n",
       "   (0.34283066, 'authorities'),\n",
       "   (0.33594906, 'people'),\n",
       "   (0.33594906, 'people'),\n",
       "   (0.33594906, 'people')],\n",
       "  [(0.33594906, 'people'),\n",
       "   (0.33146256, 'over'),\n",
       "   (0.3306599, 'the'),\n",
       "   (0.3306599, 'the'),\n",
       "   (0.3306599, 'the')]])"
      ]
     },
     "execution_count": 74,
     "metadata": {},
     "output_type": "execute_result"
    }
   ],
   "source": [
    "check_top5_isflood_sim = [f[:5] for f in is_flood_similarities]\n",
    "check_top5_not_isflood_sim = [f[:5] for f in is_not_flood_similarities]\n",
    "check_top5_isflood_sim[:2], '---------------------------', check_top5_not_isflood_sim[:2]"
   ]
  },
  {
   "cell_type": "markdown",
   "metadata": {},
   "source": [
    "Check to see if sim > 0.8 and how many of those there are like that"
   ]
  },
  {
   "cell_type": "code",
   "execution_count": 75,
   "metadata": {},
   "outputs": [],
   "source": [
    "def calculate_similarity_above(l, threshold=0.8, debug=False, single=False):\n",
    "    sim=[]\n",
    "    for f in l:\n",
    "        sim_check=[]\n",
    "        for ff in f:\n",
    "            if ff[0]>threshold: sim_check.append(ff)\n",
    "        if single: break\n",
    "        sim.append(sim_check)\n",
    "    return sim"
   ]
  },
  {
   "cell_type": "code",
   "execution_count": 82,
   "metadata": {},
   "outputs": [
    {
     "name": "stdout",
     "output_type": "stream",
     "text": [
      "Threshold satisfied by atleast 1 word:\tIs Flood: 25 \tIs Not Flood: 50\n",
      "Occurs more than once:\t\t\tIs Flood: 18 \tIs Not Flood: 17\n"
     ]
    }
   ],
   "source": [
    "threshold = 0.8\n",
    "isflood_simcheck = calculate_similarity_above(is_flood_similarities, threshold)\n",
    "not_isflood_simcheck = calculate_similarity_above(is_not_flood_similarities, threshold)\n",
    "print('Threshold satisfied by atleast 1 word:', end='\\t')\n",
    "print('Is Flood:',len([f for f in isflood_simcheck if f]),\n",
    "      '\\tIs Not Flood:',len([f for f in not_isflood_simcheck if f]))\n",
    "print('Occurs more than once:', end='\\t\\t\\t')\n",
    "print('Is Flood:', len([f for f in isflood_simcheck if len(f)>1]),\n",
    "      '\\tIs Not Flood:',len([f for f in not_isflood_simcheck if len(f)>1]))\n",
    "\n",
    "# [f for f in isflood_simcheck if f],'---------------------------', [f for f in not_isflood_simcheck if f]\n",
    "# isflood_simcheck"
   ]
  },
  {
   "cell_type": "markdown",
   "metadata": {},
   "source": [
    "Consider words that don't have flood in it and check them out"
   ]
  },
  {
   "cell_type": "code",
   "execution_count": 84,
   "metadata": {},
   "outputs": [],
   "source": [
    "is_flood_similarities_noflood = calculate_similarity(df_is_flood, word_has_flood=False)\n",
    "is_not_flood_similarities_noflood = calculate_similarity(df_is_not_flood, word_has_flood=False)"
   ]
  },
  {
   "cell_type": "code",
   "execution_count": 85,
   "metadata": {
    "scrolled": true
   },
   "outputs": [
    {
     "data": {
      "text/plain": [
       "([[(0.57215005, 'disaster'),\n",
       "   (0.5205556, 'rain'),\n",
       "   (0.5205556, 'rain'),\n",
       "   (0.51762384, 'rivers'),\n",
       "   (0.51762384, 'rivers')],\n",
       "  [(0.51762384, 'rivers'),\n",
       "   (0.50659436, 'water'),\n",
       "   (0.50659436, 'water'),\n",
       "   (0.50659436, 'water'),\n",
       "   (0.50659436, 'water')]],\n",
       " '---------------------------',\n",
       " [[(0.3505731, 'deadly'),\n",
       "   (0.34283066, 'authorities'),\n",
       "   (0.33594906, 'people'),\n",
       "   (0.33594906, 'people'),\n",
       "   (0.33594906, 'people')],\n",
       "  [(0.33594906, 'people'),\n",
       "   (0.33146256, 'over'),\n",
       "   (0.3306599, 'the'),\n",
       "   (0.3306599, 'the'),\n",
       "   (0.3306599, 'the')]])"
      ]
     },
     "execution_count": 85,
     "metadata": {},
     "output_type": "execute_result"
    }
   ],
   "source": [
    "check_top5_isflood_sim_noflood = [f[:5] for f in is_flood_similarities_noflood]\n",
    "check_top5_not_isflood_sim_noflood = [f[:5] for f in is_not_flood_similarities_noflood]\n",
    "check_top5_isflood_sim_noflood[:2], '---------------------------', check_top5_not_isflood_sim_noflood[:2]"
   ]
  },
  {
   "cell_type": "code",
   "execution_count": 100,
   "metadata": {},
   "outputs": [
    {
     "name": "stdout",
     "output_type": "stream",
     "text": [
      "Threshold satisfied by atleast 1 word:\tIs Flood: 23 \tIs Not Flood: 31\n"
     ]
    }
   ],
   "source": [
    "threshold = 0.6\n",
    "isflood_simcheck_noflood = calculate_similarity_above(is_flood_similarities_noflood, threshold)\n",
    "not_isflood_simcheck_noflood = calculate_similarity_above(is_not_flood_similarities_noflood, threshold)\n",
    "print('Threshold satisfied by atleast 1 word:', end='\\t')\n",
    "print('Is Flood:',len([f for f in isflood_simcheck_noflood if f]),\n",
    "      '\\tIs Not Flood:',len([f for f in not_isflood_simcheck_noflood if f]))\n",
    "# print('Occurs more than once:', end='\\t\\t\\t')\n",
    "# print('Is Flood:', len([f for f in isflood_simcheck_noflood if len(f)>1]),\n",
    "#       '\\tIs Not Flood:',len([f for f in not_isflood_simcheck_noflood if len(f)>1]))\n",
    "# not_isflood_simcheck_noflood"
   ]
  },
  {
   "cell_type": "markdown",
   "metadata": {},
   "source": [
    "Combined"
   ]
  },
  {
   "cell_type": "code",
   "execution_count": 92,
   "metadata": {},
   "outputs": [
    {
     "name": "stdout",
     "output_type": "stream",
     "text": [
      "COMBINED: Threshold satisfied by atleast 1 word:\tIs Flood: 31 \tIs Not Flood: 66\n"
     ]
    }
   ],
   "source": [
    "print('COMBINED: Threshold satisfied by atleast 1 word:', end='\\t')\n",
    "print('Is Flood:',len([f for i,f in enumerate(isflood_simcheck_noflood) if f or isflood_simcheck[i]]),\n",
    "      '\\tIs Not Flood:',len([f for i,f in enumerate(not_isflood_simcheck_noflood) if f or not_isflood_simcheck[i]]))\n",
    "# print('Occurs more than once:', end='\\t\\t\\t')\n",
    "# print('Is Flood:', len([f for f in isflood_simcheck_noflood if len(f)>1]),\n",
    "#       '\\tIs Not Flood:',len([f for f in not_isflood_simcheck_noflood if len(f)>1]))\n",
    "# not_isflood_simcheck_noflood"
   ]
  },
  {
   "cell_type": "markdown",
   "metadata": {},
   "source": [
    "Combined method"
   ]
  },
  {
   "cell_type": "code",
   "execution_count": 116,
   "metadata": {},
   "outputs": [],
   "source": [
    "def single_sim_text(text, debug=False, word_has_flood=True):\n",
    "    row_sim = []\n",
    "    for t in word_tokenize(text):\n",
    "        try:\n",
    "            txt = t.translate(str.maketrans('', '', string.punctuation)).strip().lower()\n",
    "            if txt and txt!='flood':\n",
    "                if not word_has_flood and 'flood' not in txt: row_sim.append((model.similarity('flood', txt),txt))\n",
    "                elif word_has_flood: row_sim.append((model.similarity('flood', txt),txt))\n",
    "            if debug: print(txt)\n",
    "        except Exception as e:\n",
    "            if debug: print(e)\n",
    "            continue\n",
    "    return sorted(row_sim, reverse=True, key=lambda x:x[0])\n",
    "\n",
    "def single_sim_above(l, threshold=0.8, debug=False):\n",
    "    sim=[]\n",
    "    for ff in l:\n",
    "        if ff[0]>threshold: sim.append(ff)\n",
    "    return sim"
   ]
  },
  {
   "cell_type": "code",
   "execution_count": 127,
   "metadata": {},
   "outputs": [],
   "source": [
    "files = [f for f in os.listdir('../all_articles/') if '.json' in f and 'model' not in f]\n",
    "threshold1 = 0.8\n",
    "threshold2 = 0.6\n",
    "arr = []\n",
    "arr_not_flood = []\n",
    "for f in files:\n",
    "    filepath = '../all_articles/'+f\n",
    "    js = json.load(open(filepath))\n",
    "    for j in js:\n",
    "        flood_words = single_sim_text(j['text'])\n",
    "        flood_words_thresh = single_sim_above(flood_words, threshold1)\n",
    "        no_flood_words = single_sim_text(j['text'], word_has_flood=False)\n",
    "        no_flood_words_thresh = single_sim_above(no_flood_words, threshold2)\n",
    "        if flood_words_thresh or no_flood_words_thresh:\n",
    "            arr.append(j) \n",
    "        else: arr_not_flood.append(j)"
   ]
  },
  {
   "cell_type": "code",
   "execution_count": 129,
   "metadata": {},
   "outputs": [
    {
     "data": {
      "text/plain": [
       "(462, 1940)"
      ]
     },
     "execution_count": 129,
     "metadata": {},
     "output_type": "execute_result"
    }
   ],
   "source": [
    "len(arr), len(arr_not_flood)"
   ]
  },
  {
   "cell_type": "code",
   "execution_count": 133,
   "metadata": {},
   "outputs": [],
   "source": [
    "json.dump(arr,open('../all_articles/isflood_true_word2vec_model1.json','w'),indent=2)\n",
    "json.dump(arr_not_flood,open('../all_articles/isflood_false_word2vec_model1.json','w'),indent=2)"
   ]
  },
  {
   "cell_type": "markdown",
   "metadata": {},
   "source": [
    "### Train Test Split"
   ]
  },
  {
   "cell_type": "code",
   "execution_count": 9,
   "metadata": {},
   "outputs": [
    {
     "name": "stdout",
     "output_type": "stream",
     "text": [
      "Train: 365 \t\tTest: 92\n",
      "Is flood Train: 26 \tIs Flood Test: 12\n"
     ]
    },
    {
     "data": {
      "text/html": [
       "<div>\n",
       "<style scoped>\n",
       "    .dataframe tbody tr th:only-of-type {\n",
       "        vertical-align: middle;\n",
       "    }\n",
       "\n",
       "    .dataframe tbody tr th {\n",
       "        vertical-align: top;\n",
       "    }\n",
       "\n",
       "    .dataframe thead th {\n",
       "        text-align: right;\n",
       "    }\n",
       "</style>\n",
       "<table border=\"1\" class=\"dataframe\">\n",
       "  <thead>\n",
       "    <tr style=\"text-align: right;\">\n",
       "      <th></th>\n",
       "      <th>doc_id</th>\n",
       "      <th>filename</th>\n",
       "      <th>is_flood</th>\n",
       "      <th>is_bangladesh</th>\n",
       "      <th>flood_related</th>\n",
       "      <th>flood_climatechange</th>\n",
       "      <th>newspaper</th>\n",
       "      <th>flood_type</th>\n",
       "      <th>text</th>\n",
       "    </tr>\n",
       "  </thead>\n",
       "  <tbody>\n",
       "    <tr>\n",
       "      <th>17</th>\n",
       "      <td>70e67b2a-32e5-4888-a25d-9100ccb98018</td>\n",
       "      <td>aAfUVRlM3rES6aUFPOCroCDgaTLu-dhakaTribune_data...</td>\n",
       "      <td>False</td>\n",
       "      <td>True</td>\n",
       "      <td>False</td>\n",
       "      <td>False</td>\n",
       "      <td>dhaka_tribune</td>\n",
       "      <td>None</td>\n",
       "      <td>Date Published:2020-01-12 00:00:00      \\nDevo...</td>\n",
       "    </tr>\n",
       "    <tr>\n",
       "      <th>66</th>\n",
       "      <td>afdcc8b1-a036-45f2-bb35-938a02de7586</td>\n",
       "      <td>aLhMAGKiVPa2AC4yL6j2nH44IaT4-dhakaTribune_data...</td>\n",
       "      <td>False</td>\n",
       "      <td>True</td>\n",
       "      <td>False</td>\n",
       "      <td>False</td>\n",
       "      <td>dhaka_tribune</td>\n",
       "      <td>None</td>\n",
       "      <td>Date Published:2020-01-14 00:00:00      \\nTea ...</td>\n",
       "    </tr>\n",
       "    <tr>\n",
       "      <th>410</th>\n",
       "      <td>6454f41c-5c82-4085-aba8-b3cfec6c610c</td>\n",
       "      <td>alk1925T4ACEN1XcZI5oGpv989Hi-dhakaTribune_data...</td>\n",
       "      <td>False</td>\n",
       "      <td>False</td>\n",
       "      <td>False</td>\n",
       "      <td>False</td>\n",
       "      <td>dhaka_tribune</td>\n",
       "      <td>None</td>\n",
       "      <td>Date Published:2020-03-22 00:00:00      \\nChil...</td>\n",
       "    </tr>\n",
       "    <tr>\n",
       "      <th>320</th>\n",
       "      <td>None</td>\n",
       "      <td>adKDGsYIi33Hbbfb0Q8_hM2iZFLS-1988_8f66e40f412f...</td>\n",
       "      <td>False</td>\n",
       "      <td>False</td>\n",
       "      <td>False</td>\n",
       "      <td>False</td>\n",
       "      <td>ny_times</td>\n",
       "      <td>None</td>\n",
       "      <td>ANSWERS TO QUIZ\\n1988-09-10T05:00:00.000Z\\nQue...</td>\n",
       "    </tr>\n",
       "    <tr>\n",
       "      <th>31</th>\n",
       "      <td>15061609-dbed-4598-ad1f-7fcc7c78c1bb</td>\n",
       "      <td>a3VHG544C2mtoqB75_yAFqPSVVUO-dhakaTribune_data...</td>\n",
       "      <td>False</td>\n",
       "      <td>True</td>\n",
       "      <td>False</td>\n",
       "      <td>False</td>\n",
       "      <td>dhaka_tribune</td>\n",
       "      <td>None</td>\n",
       "      <td>Date Published:2020-03-28 00:00:00      \\nThe ...</td>\n",
       "    </tr>\n",
       "  </tbody>\n",
       "</table>\n",
       "</div>"
      ],
      "text/plain": [
       "                                   doc_id  \\\n",
       "17   70e67b2a-32e5-4888-a25d-9100ccb98018   \n",
       "66   afdcc8b1-a036-45f2-bb35-938a02de7586   \n",
       "410  6454f41c-5c82-4085-aba8-b3cfec6c610c   \n",
       "320                                  None   \n",
       "31   15061609-dbed-4598-ad1f-7fcc7c78c1bb   \n",
       "\n",
       "                                              filename is_flood is_bangladesh  \\\n",
       "17   aAfUVRlM3rES6aUFPOCroCDgaTLu-dhakaTribune_data...    False          True   \n",
       "66   aLhMAGKiVPa2AC4yL6j2nH44IaT4-dhakaTribune_data...    False          True   \n",
       "410  alk1925T4ACEN1XcZI5oGpv989Hi-dhakaTribune_data...    False         False   \n",
       "320  adKDGsYIi33Hbbfb0Q8_hM2iZFLS-1988_8f66e40f412f...    False         False   \n",
       "31   a3VHG544C2mtoqB75_yAFqPSVVUO-dhakaTribune_data...    False          True   \n",
       "\n",
       "    flood_related flood_climatechange      newspaper flood_type  \\\n",
       "17          False               False  dhaka_tribune       None   \n",
       "66          False               False  dhaka_tribune       None   \n",
       "410         False               False  dhaka_tribune       None   \n",
       "320         False               False       ny_times       None   \n",
       "31          False               False  dhaka_tribune       None   \n",
       "\n",
       "                                                  text  \n",
       "17   Date Published:2020-01-12 00:00:00      \\nDevo...  \n",
       "66   Date Published:2020-01-14 00:00:00      \\nTea ...  \n",
       "410  Date Published:2020-03-22 00:00:00      \\nChil...  \n",
       "320  ANSWERS TO QUIZ\\n1988-09-10T05:00:00.000Z\\nQue...  \n",
       "31   Date Published:2020-03-28 00:00:00      \\nThe ...  "
      ]
     },
     "execution_count": 9,
     "metadata": {},
     "output_type": "execute_result"
    }
   ],
   "source": [
    "train, test = train_test_split(df)\n",
    "print('Train:',len(train),'\\t\\tTest:',len(test))\n",
    "print('Is flood Train:',len(query_dataframe(train,{'is_flood':True})),\n",
    "      '\\tIs Flood Test:',len(query_dataframe(test,{'is_flood':True})))\n",
    "train.head()"
   ]
  }
 ],
 "metadata": {
  "kernelspec": {
   "display_name": "bangladesh_venv",
   "language": "python",
   "name": "bangladesh_venv"
  },
  "language_info": {
   "codemirror_mode": {
    "name": "ipython",
    "version": 3
   },
   "file_extension": ".py",
   "mimetype": "text/x-python",
   "name": "python",
   "nbconvert_exporter": "python",
   "pygments_lexer": "ipython3",
   "version": "3.7.2"
  }
 },
 "nbformat": 4,
 "nbformat_minor": 2
}
